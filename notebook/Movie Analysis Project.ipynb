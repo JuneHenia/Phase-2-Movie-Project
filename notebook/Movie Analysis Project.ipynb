{
 "cells": [
  {
   "cell_type": "markdown",
   "id": "82c726a7-48e9-4156-916f-26316a00c2b8",
   "metadata": {},
   "source": [
    "# Phase 2 project:\n",
    "## Movie Studio Analysis"
   ]
  },
  {
   "cell_type": "markdown",
   "id": "dd2412cb-141b-4be1-84ac-683a5c879aad",
   "metadata": {},
   "source": [
    "# Business Understanding \n",
    "\n",
    "A company is interested in entering the movie studio industry. This is based on performances of films from studios such as Warner Bros, Sony, and Paramount Pictures.\n",
    "They have no background/knowledge on the film industry, but are excited to try it out. They would like an analysis on the movies that have been performing well to make a data-driven decision. \n",
    "\n",
    "**Key focus points:**\n",
    "1. Which genre of movies are performing well in the Box Office\n",
    "2. How much revenue are they making\n",
    "3. The ratings of the movies and their respective budget \n",
    "4. The runtime of the movies that are performing well\n",
    "\n",
    "The focus points are to guide the company into ensuring the films produced and released are performing well (ratings) at the Box Office, are a good investment (ROI) and they work well with the given budget. \n",
    "\n",
    "**Datasets used:**\n",
    "- IMDB dataset\n",
    "- bom.movie_gross dataset\n",
    "- \n",
    "\n",
    "\n",
    "**Outcome:**\n",
    "- 3 recommendations for the potential new movie studio. This helps guide the company to draw an appropriate and data-driven decision. \n"
   ]
  },
  {
   "cell_type": "code",
   "execution_count": null,
   "id": "d169de81-15de-48a2-9650-fd36a3241237",
   "metadata": {},
   "outputs": [],
   "source": []
  },
  {
   "cell_type": "code",
   "execution_count": null,
   "id": "f095fbb4-6a8f-4fcf-a0d0-733bd2e5e135",
   "metadata": {},
   "outputs": [],
   "source": []
  }
 ],
 "metadata": {
  "kernelspec": {
   "display_name": "Python 3 (ipykernel)",
   "language": "python",
   "name": "python3"
  },
  "language_info": {
   "codemirror_mode": {
    "name": "ipython",
    "version": 3
   },
   "file_extension": ".py",
   "mimetype": "text/x-python",
   "name": "python",
   "nbconvert_exporter": "python",
   "pygments_lexer": "ipython3",
   "version": "3.12.7"
  }
 },
 "nbformat": 4,
 "nbformat_minor": 5
}
